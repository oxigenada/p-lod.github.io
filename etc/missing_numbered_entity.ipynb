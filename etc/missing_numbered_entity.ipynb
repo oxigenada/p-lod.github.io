{
 "cells": [
  {
   "cell_type": "code",
   "execution_count": 1,
   "metadata": {
    "collapsed": false
   },
   "outputs": [
    {
     "name": "stderr",
     "output_type": "stream",
     "text": [
      "INFO:rdflib:RDFLib Version: 4.2.1\n"
     ]
    }
   ],
   "source": [
    "# setup including building the graph. has the side effect of basic validation of turtle files.\n",
    "import rdflib\n",
    "import os\n",
    "import dominate\n",
    "from dominate.tags import *\n",
    "\n",
    "g = rdflib.Graph()\n",
    "\n",
    "# directory paths assume existence of the p-lod dir two levels up\n",
    "result = g.parse(\"../../p-lod/p-lod-vocabulary.ttl\", format=\"turtle\")\n",
    "result = g.parse(\"../../p-lod/p-lod-numbered-entities.ttl\", format=\"turtle\")\n",
    "result = g.parse(\"../../p-lod/p-lod-named-entities.ttl\", format=\"turtle\")\n",
    "\n",
    "ns = {\"rdf\" : \"http://www.w3.org/1999/02/22-rdf-syntax-ns#\",\n",
    "      \"rdfs\": \"http://www.w3.org/2000/01/rdf-schema#\" ,\n",
    "      \"p-lod-v\" : \"http://digitalhumanities.umass.edu/p-lod/vocabulary/\"}"
   ]
  },
  {
   "cell_type": "code",
   "execution_count": 3,
   "metadata": {
    "collapsed": false
   },
   "outputs": [
    {
     "name": "stdout",
     "output_type": "stream",
     "text": [
      "All clear.\n"
     ]
    }
   ],
   "source": [
    "# every named-entity in p-lod should have an accompanying numbered entitry.\n",
    "subjects = g.query(\n",
    "    \"\"\"PREFIX owl: <http://www.w3.org/2002/07/owl#>\n",
    "       PREFIX rdf: <http://www.w3.org/1999/02/22-rdf-syntax-ns#>\n",
    "       PREFIX rdfs: <http://www.w3.org/2000/01/rdf-schema#>\n",
    "       PREFIX p-lod-v: <http://digitalhumanities.umass.edu/p-lod/vocabulary/>\n",
    "       SELECT DISTINCT ?s\n",
    "       WHERE {\n",
    "          ?s ?p ?o .\n",
    "          FILTER NOT EXISTS { \n",
    "              ?numbered owl:sameAs ?s .\n",
    "              ?numbered a p-lod-v:numbered-entity}\n",
    "          FILTER NOT EXISTS { ?s a owl:Class }\n",
    "          FILTER NOT EXISTS { ?s a owl:ObjectProperty }\n",
    "          FILTER NOT EXISTS { ?s a p-lod-v:numbered-entity }\n",
    "       } ORDER BY ?s\"\"\")\n",
    "\n",
    "if len(subjects) > 0:\n",
    "    for s in subjects:\n",
    "        print(s.s)\n",
    "else:\n",
    "    print(\"All clear.\")"
   ]
  }
 ],
 "metadata": {
  "kernelspec": {
   "display_name": "Python 3",
   "language": "python",
   "name": "python3"
  },
  "language_info": {
   "codemirror_mode": {
    "name": "ipython",
    "version": 3
   },
   "file_extension": ".py",
   "mimetype": "text/x-python",
   "name": "python",
   "nbconvert_exporter": "python",
   "pygments_lexer": "ipython3",
   "version": "3.5.2"
  }
 },
 "nbformat": 4,
 "nbformat_minor": 1
}
