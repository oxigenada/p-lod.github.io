{
 "cells": [
  {
   "cell_type": "code",
   "execution_count": 11,
   "metadata": {
    "collapsed": false
   },
   "outputs": [],
   "source": [
    "# setup including building the graph. has the side effect of basic validation of turtle files.\n",
    "import rdflib\n",
    "import os\n",
    "import dominate\n",
    "from dominate.tags import *\n",
    "\n",
    "g = rdflib.Graph()\n",
    "\n",
    "# directory paths assume existence of the p-lod dir two levels up\n",
    "result = g.parse(\"../../p-lod/p-lod-vocabulary.ttl\", format=\"turtle\")\n",
    "result = g.parse(\"../../p-lod/p-lod-numbered-entities.ttl\", format=\"turtle\")\n",
    "result = g.parse(\"../../p-lod/p-lod-named-entities.ttl\", format=\"turtle\")\n",
    "\n",
    "ns = {\"dcterms\": \"http://purl.org/dc/terms/\",\n",
    "      \"owl\": \"http://www.w3.org/2002/07/owl#\",\n",
    "      \"rdf\" : \"http://www.w3.org/1999/02/22-rdf-syntax-ns#\",\n",
    "      \"rdfs\": \"http://www.w3.org/2000/01/rdf-schema#\" ,\n",
    "      \"p-lod\" : \"http://digitalhumanities.umass.edu/p-lod/\",\n",
    "      \"p-lod-e\" : \"http://digitalhumanities.umass.edu/p-lod/entities/\",\n",
    "      \"p-lod-v\" : \"http://digitalhumanities.umass.edu/p-lod/vocabulary/\"}"
   ]
  },
  {
   "cell_type": "code",
   "execution_count": 8,
   "metadata": {
    "collapsed": false
   },
   "outputs": [
    {
     "name": "stdout",
     "output_type": "stream",
     "text": [
      "http://digitalhumanities.umass.edu/p-lod/entities/r6-i1\n",
      "http://digitalhumanities.umass.edu/p-lod/entities/r6-i10\n",
      "http://digitalhumanities.umass.edu/p-lod/entities/r6-i11\n",
      "http://digitalhumanities.umass.edu/p-lod/entities/r6-i12\n",
      "http://digitalhumanities.umass.edu/p-lod/entities/r6-i13\n",
      "http://digitalhumanities.umass.edu/p-lod/entities/r6-i14\n",
      "http://digitalhumanities.umass.edu/p-lod/entities/r6-i15\n",
      "http://digitalhumanities.umass.edu/p-lod/entities/r6-i16\n",
      "http://digitalhumanities.umass.edu/p-lod/entities/r6-i17\n",
      "http://digitalhumanities.umass.edu/p-lod/entities/r6-i2\n",
      "http://digitalhumanities.umass.edu/p-lod/entities/r6-i3\n",
      "http://digitalhumanities.umass.edu/p-lod/entities/r6-i4\n",
      "http://digitalhumanities.umass.edu/p-lod/entities/r6-i5\n",
      "http://digitalhumanities.umass.edu/p-lod/entities/r6-i6\n",
      "http://digitalhumanities.umass.edu/p-lod/entities/r6-i7\n",
      "http://digitalhumanities.umass.edu/p-lod/entities/r6-i8\n",
      "http://digitalhumanities.umass.edu/p-lod/entities/r6-i9\n",
      "http://purl.org/dc/terms/isPartOf\n",
      "http://www.w3.org/1999/02/22-rdf-syntax-ns#type\n"
     ]
    }
   ],
   "source": [
    "# every named-entity in p-lod should have an accompanying numbered entitry.\n",
    "subjects = g.query(\n",
    "    \"\"\"SELECT DISTINCT ?s\n",
    "       WHERE {\n",
    "          ?s ?p ?o .\n",
    "          FILTER NOT EXISTS { \n",
    "              ?numbered owl:sameAs ?s .\n",
    "              ?numbered a p-lod-v:numbered-entity}\n",
    "          FILTER NOT EXISTS { ?s a owl:Class }\n",
    "          FILTER NOT EXISTS { ?s a owl:ObjectProperty }\n",
    "          FILTER NOT EXISTS { ?s a p-lod-v:numbered-entity }\n",
    "       } ORDER BY ?s\"\"\", initNs = ns)\n",
    "\n",
    "if len(subjects) > 0:\n",
    "    for s in subjects:\n",
    "        print(s.s)\n",
    "else:\n",
    "    print(\"All clear.\")"
   ]
  },
  {
   "cell_type": "code",
   "execution_count": 12,
   "metadata": {
    "collapsed": false
   },
   "outputs": [
    {
     "name": "stdout",
     "output_type": "stream",
     "text": [
      "http://digitalhumanities.umass.edu/p-lod/entities/pompeii\n",
      "http://purl.org/dc/terms/isPartOf\n",
      "http://www.w3.org/1999/02/22-rdf-syntax-ns#type\n"
     ]
    }
   ],
   "source": [
    "# every named-entity in p-lod should be part of something.\n",
    "subjects = g.query(\n",
    "    \"\"\"SELECT DISTINCT ?s\n",
    "       WHERE {\n",
    "          ?s ?p ?o .\n",
    "          FILTER NOT EXISTS { ?s a owl:Class }\n",
    "          FILTER NOT EXISTS { ?s a owl:ObjectProperty }\n",
    "          FILTER NOT EXISTS { ?s a p-lod-v:numbered-entity }\n",
    "          FILTER NOT EXISTS { ?s dcterms:isPartOf ?parent }\n",
    "        } ORDER BY ?s\"\"\", initNs = ns)\n",
    "\n",
    "if len(subjects) > 0:\n",
    "    for s in subjects:\n",
    "        print(s.s)\n",
    "else:\n",
    "    print(\"All clear.\")"
   ]
  }
 ],
 "metadata": {
  "kernelspec": {
   "display_name": "Python 3",
   "language": "python",
   "name": "python3"
  },
  "language_info": {
   "codemirror_mode": {
    "name": "ipython",
    "version": 3
   },
   "file_extension": ".py",
   "mimetype": "text/x-python",
   "name": "python",
   "nbconvert_exporter": "python",
   "pygments_lexer": "ipython3",
   "version": "3.5.2"
  }
 },
 "nbformat": 4,
 "nbformat_minor": 1
}
