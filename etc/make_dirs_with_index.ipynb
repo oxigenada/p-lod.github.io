{
 "cells": [
  {
   "cell_type": "markdown",
   "metadata": {},
   "source": [
    "# Setup"
   ]
  },
  {
   "cell_type": "code",
   "execution_count": 1,
   "metadata": {
    "collapsed": false
   },
   "outputs": [
    {
     "name": "stderr",
     "output_type": "stream",
     "text": [
      "INFO:rdflib:RDFLib Version: 4.2.1\n"
     ]
    }
   ],
   "source": [
    "# setup including building the graph. has the side effect of basic validation of turtle files.\n",
    "import rdflib\n",
    "import os\n",
    "import dominate\n",
    "from dominate.tags import *\n",
    "\n",
    "g = rdflib.Graph()\n",
    "\n",
    "# directory paths assume existence of the p-lod dir two levels up\n",
    "result = g.parse(\"../../p-lod/p-lod-vocabulary.ttl\", format=\"turtle\")\n",
    "result = g.parse(\"../../p-lod/p-lod-numbered-entities.ttl\", format=\"turtle\")\n",
    "result = g.parse(\"../../p-lod/p-lod-named-entities.ttl\", format=\"turtle\")\n",
    "\n",
    "ns = {\"rdf\" : \"http://www.w3.org/1999/02/22-rdf-syntax-ns#\",\n",
    "      \"rdfs\": \"http://www.w3.org/2000/01/rdf-schema#\" ,\n",
    "      \"p-lod-v\" : \"http://digitalhumanities.umass.edu/p-lod/vocabulary/\"}"
   ]
  },
  {
   "cell_type": "markdown",
   "metadata": {},
   "source": [
    "# Build individual files"
   ]
  },
  {
   "cell_type": "code",
   "execution_count": 4,
   "metadata": {
    "collapsed": false
   },
   "outputs": [
    {
     "ename": "TypeError",
     "evalue": "'ResultRow' object is not callable",
     "output_type": "error",
     "traceback": [
      "\u001b[0;31m---------------------------------------------------------------------------\u001b[0m",
      "\u001b[0;31mTypeError\u001b[0m                                 Traceback (most recent call last)",
      "\u001b[0;32m<ipython-input-4-bd84f4027bba>\u001b[0m in \u001b[0;36m<module>\u001b[0;34m()\u001b[0m\n\u001b[1;32m     32\u001b[0m         \u001b[0mp\u001b[0m\u001b[0;34m(\u001b[0m\u001b[0ma\u001b[0m\u001b[0;34m(\u001b[0m\u001b[0;34m\"(top)\"\u001b[0m\u001b[0;34m,\u001b[0m \u001b[0mhref\u001b[0m\u001b[0;34m=\u001b[0m\u001b[0;34m\"../\"\u001b[0m\u001b[0;34m)\u001b[0m\u001b[0;34m,\u001b[0m \u001b[0mstyle\u001b[0m \u001b[0;34m=\u001b[0m \u001b[0;34m\"margin\"\u001b[0m\u001b[0;34m)\u001b[0m\u001b[0;34m\u001b[0m\u001b[0m\n\u001b[1;32m     33\u001b[0m         \u001b[0;32mfor\u001b[0m \u001b[0mp_o\u001b[0m \u001b[0;32min\u001b[0m \u001b[0mp_os\u001b[0m\u001b[0;34m:\u001b[0m\u001b[0;34m\u001b[0m\u001b[0m\n\u001b[0;32m---> 34\u001b[0;31m             \u001b[0mp\u001b[0m\u001b[0;34m(\u001b[0m\u001b[0mi\u001b[0m\u001b[0;34m(\u001b[0m\u001b[0mstr\u001b[0m\u001b[0;34m(\u001b[0m\u001b[0mp_o\u001b[0m\u001b[0;34m.\u001b[0m\u001b[0mp\u001b[0m\u001b[0;34m)\u001b[0m\u001b[0;34m)\u001b[0m\u001b[0;34m)\u001b[0m\u001b[0;34m\u001b[0m\u001b[0m\n\u001b[0m\u001b[1;32m     35\u001b[0m             \u001b[0;32mwith\u001b[0m \u001b[0mp\u001b[0m\u001b[0;34m(\u001b[0m\u001b[0mstyle\u001b[0m\u001b[0;34m=\u001b[0m\u001b[0;34m\"margin-left:1em\"\u001b[0m\u001b[0;34m)\u001b[0m\u001b[0;34m:\u001b[0m\u001b[0;34m\u001b[0m\u001b[0m\n\u001b[1;32m     36\u001b[0m                 \u001b[0;32mif\u001b[0m \u001b[0mstr\u001b[0m\u001b[0;34m(\u001b[0m\u001b[0mp_o\u001b[0m\u001b[0;34m.\u001b[0m\u001b[0mo\u001b[0m\u001b[0;34m)\u001b[0m\u001b[0;34m[\u001b[0m\u001b[0;36m0\u001b[0m\u001b[0;34m:\u001b[0m\u001b[0;36m4\u001b[0m\u001b[0;34m]\u001b[0m \u001b[0;34m==\u001b[0m \u001b[0;34m'http'\u001b[0m\u001b[0;34m:\u001b[0m\u001b[0;34m\u001b[0m\u001b[0m\n",
      "\u001b[0;31mTypeError\u001b[0m: 'ResultRow' object is not callable"
     ]
    }
   ],
   "source": [
    "# get unique subjects\n",
    "subjects = g.query(\n",
    "    \"\"\"SELECT DISTINCT ?s\n",
    "       WHERE {\n",
    "          ?s ?p ?o .\n",
    "       } ORDER BY ?s\"\"\")\n",
    "\n",
    "# build individual index.html files\n",
    "for row in subjects:\n",
    "    path = str(row.s).replace('http://digitalhumanities.umass.edu/p-lod/','').split('/')\n",
    "    \n",
    "    directory = path[0]\n",
    "    entity = path[1]\n",
    "    \n",
    "    if not os.path.exists(\"../\" + directory):\n",
    "        os.makedirs(\"../\" + directory)\n",
    "        \n",
    "    if not os.path.exists(\"../\" + directory + \"/\" + entity):\n",
    "        os.makedirs(\"../\" + directory + \"/\" + entity)\n",
    "        \n",
    "    p_os = g.query(\"SELECT ?p ?o WHERE { <http://digitalhumanities.umass.edu/p-lod/\"+ directory + \"/\" + entity + \"> ?p ?o } ORDER BY ?p\")\n",
    "    #print(description)\n",
    "    \n",
    "    doc = dominate.document(title=\"Pompeii LOD: \" + entity)\n",
    "\n",
    "    with doc.head:\n",
    "        link(rel='stylesheet', href='../pure-min.css')\n",
    "        # script(type='text/javascript', src='script.js')\n",
    "\n",
    "    with doc:\n",
    "        h1(\"Pompeii LOD \" + directory + \": \" + entity )\n",
    "        p(a(\"(top)\", href=\"../\"), style = \"margin\")\n",
    "        for p_o in p_os:\n",
    "            p(i(str(p_o.p)))\n",
    "            with p(style=\"margin-left:1em\"):\n",
    "                if str(p_o.o)[0:4] == 'http':\n",
    "                    a(str(p_o.o),href = str(p_o.o).replace('http://digitalhumanities.umass.edu/p-lod',''))\n",
    "                else:\n",
    "                    span(str(p_o.o))\n",
    "            p()\n",
    "\n",
    "    # actually write the file\n",
    "    file = open(\"../\" + directory + \"/\" + entity + \"/index.html\", 'w')\n",
    "    file.write(doc.render())\n",
    "    file.close()"
   ]
  },
  {
   "cell_type": "markdown",
   "metadata": {},
   "source": [
    "# Build main index.html file"
   ]
  },
  {
   "cell_type": "code",
   "execution_count": 3,
   "metadata": {
    "collapsed": false
   },
   "outputs": [],
   "source": [
    "# build /index.html\n",
    "index = g.query(\n",
    "    \"\"\"SELECT DISTINCT ?s ?label\n",
    "       WHERE {\n",
    "          ?s ?p ?o .\n",
    "          ?s rdfs:label ?label .\n",
    "          ?s a ?type .\n",
    "          ?type rdfs:subClassOf* p-lod-v:named-entity .\n",
    "          OPTIONAL { ?s a p-lod-v:named-entity . }\n",
    "       } ORDER BY ?s\"\"\", initNs = ns)\n",
    "\n",
    "doc = dominate.document(title=\"Pompeii LOD: \")\n",
    "\n",
    "with doc.head:\n",
    "    link(rel='stylesheet', href='/pure.css')\n",
    "    # script(type='text/javascript', src='script.js')\n",
    "\n",
    "with doc:\n",
    "    h1(\"Pompeii LOD\")\n",
    "    with ol():\n",
    "        for i in index:\n",
    "            with li():\n",
    "                a(str(i.label),href = str(i.s).replace('http://digitalhumanities.umass.edu/p-lod',''))\n",
    "\n",
    "# actually write the file\n",
    "file = open(\"../index.html\", 'w')\n",
    "file.write(doc.render())\n",
    "file.close()"
   ]
  }
 ],
 "metadata": {
  "kernelspec": {
   "display_name": "Python 3",
   "language": "python",
   "name": "python3"
  },
  "language_info": {
   "codemirror_mode": {
    "name": "ipython",
    "version": 3
   },
   "file_extension": ".py",
   "mimetype": "text/x-python",
   "name": "python",
   "nbconvert_exporter": "python",
   "pygments_lexer": "ipython3",
   "version": "3.5.2"
  }
 },
 "nbformat": 4,
 "nbformat_minor": 1
}
