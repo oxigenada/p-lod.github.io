{
 "cells": [
  {
   "cell_type": "markdown",
   "metadata": {},
   "source": [
    "# Setup"
   ]
  },
  {
   "cell_type": "code",
   "execution_count": 72,
   "metadata": {
    "collapsed": false
   },
   "outputs": [],
   "source": [
    "# setup including building the graph\n",
    "import rdflib\n",
    "import os\n",
    "import dominate\n",
    "from dominate.tags import *\n",
    "\n",
    "g = rdflib.Graph()\n",
    "\n",
    "# directory paths assume existence of the p-lod dir two levels up\n",
    "result = g.parse(\"../../p-lod/p-lod-vocabulary.ttl\", format=\"turtle\")\n",
    "result = g.parse(\"../../p-lod/p-lod-entities.ttl\", format=\"turtle\")\n",
    "result = g.parse(\"../../p-lod/p-lod-named-entities.ttl\", format=\"turtle\")"
   ]
  },
  {
   "cell_type": "markdown",
   "metadata": {},
   "source": [
    "# Build individual files"
   ]
  },
  {
   "cell_type": "code",
   "execution_count": 73,
   "metadata": {
    "collapsed": true
   },
   "outputs": [],
   "source": [
    "# get unique subjects\n",
    "subjects = g.query(\n",
    "    \"\"\"SELECT DISTINCT ?s\n",
    "       WHERE {\n",
    "          ?s ?p ?o .\n",
    "       } ORDER BY ?s\"\"\")\n",
    "\n",
    "# build individual index.html files\n",
    "for row in subjects:\n",
    "    path = str(row.s).replace('http://digitalhumanities.umass.edu/p-lod/','').split('/')\n",
    "    \n",
    "    directory = path[0]\n",
    "    entity = path[1]\n",
    "    \n",
    "    if not os.path.exists(\"../\" + directory):\n",
    "        os.makedirs(\"../\" + directory)\n",
    "        \n",
    "    if not os.path.exists(\"../\" + directory + \"/\" + entity):\n",
    "        os.makedirs(\"../\" + directory + \"/\" + entity)\n",
    "        \n",
    "    p_os = g.query(\"SELECT ?p ?o WHERE { <http://digitalhumanities.umass.edu/p-lod/\"+ directory + \"/\" + entity + \"> ?p ?o } ORDER BY ?p\")\n",
    "    #print(description)\n",
    "    \n",
    "    doc = dominate.document(title=\"Pompeii LOD: \" + entity)\n",
    "\n",
    "    with doc.head:\n",
    "        link(rel='stylesheet', href='style.css')\n",
    "        # script(type='text/javascript', src='script.js')\n",
    "\n",
    "    with doc:\n",
    "        h1(\"Pompeii LOD \" + directory + \": \" + entity)\n",
    "        for p_o in p_os:\n",
    "            p(i(str(p_o.p)))\n",
    "            with p(style=\"margin-left:1em\"):\n",
    "                if str(p_o.o)[0:4] == 'http':\n",
    "                    a(str(p_o.o),href = str(p_o.o).replace('http://digitalhumanities.umass.edu/p-lod',''))\n",
    "                else:\n",
    "                    span(str(p_o.o))\n",
    "            p()\n",
    "\n",
    "    # actually write the file\n",
    "    file = open(\"../\" + directory + \"/\" + entity + \"/index.html\", 'w')\n",
    "    file.write(doc.render())\n",
    "    file.close()"
   ]
  },
  {
   "cell_type": "markdown",
   "metadata": {},
   "source": [
    "# Build main index.html file"
   ]
  },
  {
   "cell_type": "code",
   "execution_count": 74,
   "metadata": {
    "collapsed": false
   },
   "outputs": [],
   "source": [
    "# build /index.html\n",
    "index = g.query(\n",
    "    \"\"\"PREFIX rdf: <http://www.w3.org/1999/02/22-rdf-syntax-ns#>\n",
    "       PREFIX rdfs: <http://www.w3.org/2000/01/rdf-schema#>\n",
    "       PREFIX p-lod-v: <http://digitalhumanities.umass.edu/p-lod/vocabulary/>\n",
    "       SELECT DISTINCT ?s ?label\n",
    "       WHERE {\n",
    "          ?s ?p ?o .\n",
    "          ?s rdfs:label ?label .\n",
    "          ?s a ?type .\n",
    "          ?type rdfs:subClassOf* p-lod-v:named-entity .\n",
    "          OPTIONAL { ?s a p-lod-v:named-entity . }\n",
    "       } ORDER BY ?s\"\"\")\n",
    "\n",
    "doc = dominate.document(title=\"Pompeii LOD: \" + entity)\n",
    "\n",
    "with doc.head:\n",
    "    link(rel='stylesheet', href='style.css')\n",
    "    # script(type='text/javascript', src='script.js')\n",
    "\n",
    "with doc:\n",
    "    h1(\"Pompeii LOD \" + directory + \": \" + entity)\n",
    "    with ol():\n",
    "        for i in index:\n",
    "            with li():\n",
    "                a(str(i.label),href = str(i.s).replace('http://digitalhumanities.umass.edu/p-lod',''))\n",
    "\n",
    "\n",
    "\n",
    "    \n",
    "    \n",
    "# actually write the file\n",
    "file = open(\"../index.html\", 'w')\n",
    "file.write(doc.render())\n",
    "file.close()"
   ]
  }
 ],
 "metadata": {
  "kernelspec": {
   "display_name": "Python 3",
   "language": "python",
   "name": "python3"
  },
  "language_info": {
   "codemirror_mode": {
    "name": "ipython",
    "version": 3
   },
   "file_extension": ".py",
   "mimetype": "text/x-python",
   "name": "python",
   "nbconvert_exporter": "python",
   "pygments_lexer": "ipython3",
   "version": "3.5.2"
  }
 },
 "nbformat": 4,
 "nbformat_minor": 1
}
